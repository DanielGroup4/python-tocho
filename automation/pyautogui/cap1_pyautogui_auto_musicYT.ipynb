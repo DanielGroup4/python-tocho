{
 "cells": [
  {
   "cell_type": "code",
   "execution_count": 1,
   "metadata": {},
   "outputs": [],
   "source": [
    "import pyautogui as robot\n",
    "import time"
   ]
  },
  {
   "cell_type": "code",
   "execution_count": 2,
   "metadata": {},
   "outputs": [],
   "source": [
    "lista_de_rep = ['Beds Are Burning', 'take on me']\n",
    "\n",
    "googleChrome = 388, 19\n",
    "pos_cuenta_google = 680, 442\n",
    "nueva_pestaña = 1118, 48\n",
    "pos_url = 378, 79\n",
    "\n",
    "barra_buscar = 568, 161\n",
    "pos_cancion = 509, 332\n",
    "duracion = 120\n",
    "#cerrar_pes = 1033, 47\n",
    "salida_Chrome = 1349, 44\n"
   ]
  },
  {
   "cell_type": "code",
   "execution_count": 3,
   "metadata": {},
   "outputs": [],
   "source": [
    "# funcion para abrir y mov el mouse\n",
    "def abrir(pos, click=1):\n",
    "    robot.moveTo(pos)\n",
    "    robot.click(clicks=click)\n",
    "    \n"
   ]
  },
  {
   "cell_type": "code",
   "execution_count": 4,
   "metadata": {},
   "outputs": [
    {
     "name": "stdout",
     "output_type": "stream",
     "text": [
      "proceso terminado\n"
     ]
    }
   ],
   "source": [
    "# abiendo google chrome y configuracion del tamaño de la pantalla\n",
    "time.sleep(3)\n",
    "abrir(googleChrome)\n",
    "time.sleep(6)\n",
    "#robot.hotkey('alt', 'space')\n",
    "#time.sleep(3)\n",
    "#robot.typewrite('x')\n",
    "\n",
    "# localizar posicion de cuenta de google\n",
    "abrir(pos_cuenta_google)\n",
    "time.sleep(6) # abriendo cuenta de google\n",
    "\n",
    "# localizar nueva pestaña\n",
    "abrir(nueva_pestaña)\n",
    "time.sleep(3)\n",
    "\n",
    "# localizar barra de url y abiendo YT\n",
    "abrir(pos_url, click=1)\n",
    "robot.typewrite('www.youtube.com')\n",
    "robot.hotkey('enter')\n",
    "time.sleep(10)\n",
    "\n",
    "# elegir la cancion\n",
    "for i in range(len(lista_de_rep)):\n",
    "    abrir(barra_buscar, click=3)\n",
    "    #time.sleep(3)\n",
    "    robot.typewrite(lista_de_rep[i])\n",
    "    time.sleep(8)\n",
    "    robot.hotkey('enter')\n",
    "    time.sleep(8)\n",
    "    abrir(pos_cancion)\n",
    "    time.sleep(duracion)\n",
    "\n",
    "robot.hotkey('ctrl', 'w')\n",
    "abrir(salida_Chrome)\n",
    "print('proceso terminado')"
   ]
  },
  {
   "cell_type": "code",
   "execution_count": null,
   "metadata": {},
   "outputs": [],
   "source": []
  }
 ],
 "metadata": {
  "interpreter": {
   "hash": "a014cb58a96c793e510c6b79c0f6e44345ae078bb457dd5a0ccab5bab3f0694b"
  },
  "kernelspec": {
   "display_name": "Python 3.9.4 64-bit",
   "language": "python",
   "name": "python3"
  },
  "language_info": {
   "codemirror_mode": {
    "name": "ipython",
    "version": 3
   },
   "file_extension": ".py",
   "mimetype": "text/x-python",
   "name": "python",
   "nbconvert_exporter": "python",
   "pygments_lexer": "ipython3",
   "version": "3.9.4"
  },
  "orig_nbformat": 4
 },
 "nbformat": 4,
 "nbformat_minor": 2
}
