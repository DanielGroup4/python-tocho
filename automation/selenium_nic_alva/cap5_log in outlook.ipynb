{
 "cells": [
  {
   "cell_type": "code",
   "execution_count": 1,
   "metadata": {},
   "outputs": [],
   "source": [
    "from selenium import webdriver\n",
    "from selenium.webdriver.common.keys import Keys\n",
    "import time "
   ]
  },
  {
   "cell_type": "code",
   "execution_count": 2,
   "metadata": {},
   "outputs": [],
   "source": [
    "path_driver = r'C:\\Users\\Dael\\Documents\\1._IT\\1_PYTHON\\commited\\webScraping\\chromedriver.exe'"
   ]
  },
  {
   "cell_type": "code",
   "execution_count": 35,
   "metadata": {},
   "outputs": [
    {
     "name": "stderr",
     "output_type": "stream",
     "text": [
      "C:\\Users\\Public\\Documents\\Wondershare\\CreatorTemp/ipykernel_1216/3803772186.py:1: DeprecationWarning: executable_path has been deprecated, please pass in a Service object\n",
      "  driver = webdriver.Chrome(path_driver)\n",
      "C:\\Users\\Public\\Documents\\Wondershare\\CreatorTemp/ipykernel_1216/3803772186.py:6: DeprecationWarning: find_element_by_* commands are deprecated. Please use find_element() instead\n",
      "  log = driver.find_element_by_xpath('/html/body/header/div/aside/div/nav/ul/li[2]/a')\n",
      "C:\\Users\\Public\\Documents\\Wondershare\\CreatorTemp/ipykernel_1216/3803772186.py:10: DeprecationWarning: find_element_by_* commands are deprecated. Please use find_element() instead\n",
      "  user = driver.find_element_by_id('i0116')\n",
      "C:\\Users\\Public\\Documents\\Wondershare\\CreatorTemp/ipykernel_1216/3803772186.py:16: DeprecationWarning: find_element_by_* commands are deprecated. Please use find_element() instead\n",
      "  b_next = driver.find_element_by_id('idSIButton9')\n",
      "C:\\Users\\Public\\Documents\\Wondershare\\CreatorTemp/ipykernel_1216/3803772186.py:22: DeprecationWarning: find_element_by_* commands are deprecated. Please use find_element() instead\n",
      "  pws = driver.find_element_by_id('i0118')\n",
      "C:\\Users\\Public\\Documents\\Wondershare\\CreatorTemp/ipykernel_1216/3803772186.py:28: DeprecationWarning: find_element_by_* commands are deprecated. Please use find_element() instead\n",
      "  ini_sesion = driver.find_element_by_id('idSIButton9')\n"
     ]
    }
   ],
   "source": [
    "driver = webdriver.Chrome(path_driver)\n",
    "driver.get('https://outlook.live.com/owa/')\n",
    "time.sleep(3)\n",
    "\n",
    "# inciar sesion\n",
    "boton_log = driver.find_element_by_xpath('/html/body/header/div/aside/div/nav/ul/li[2]/a')\n",
    "boton_log.click()\n",
    "\n",
    "# login\n",
    "user = driver.find_element_by_id('i0116')\n",
    "user.send_keys('jdgbelman@hotmail.com')\n",
    "user.send_keys(Keys.ENTER)\n",
    "\n",
    "time.sleep(3)\n",
    "\n",
    "boton_sig = driver.find_element_by_id('idSIButton9')\n",
    "boton_sig.click()\n",
    "\n",
    "#time.sleep(3)\n",
    "\n",
    "# password\n",
    "pws = driver.find_element_by_id('i0118')\n",
    "pws.send_keys('password')\n",
    "pws.send_keys(Keys.ENTER)\n",
    "\n",
    "time.sleep(3)\n",
    "\n",
    "boton_ini_sesion = driver.find_element_by_id('idSIButton9')\n",
    "boton_ini_sesion.click()\n"
   ]
  },
  {
   "cell_type": "code",
   "execution_count": null,
   "metadata": {},
   "outputs": [],
   "source": []
  }
 ],
 "metadata": {
  "interpreter": {
   "hash": "a014cb58a96c793e510c6b79c0f6e44345ae078bb457dd5a0ccab5bab3f0694b"
  },
  "kernelspec": {
   "display_name": "Python 3.9.4 64-bit",
   "language": "python",
   "name": "python3"
  },
  "language_info": {
   "codemirror_mode": {
    "name": "ipython",
    "version": 3
   },
   "file_extension": ".py",
   "mimetype": "text/x-python",
   "name": "python",
   "nbconvert_exporter": "python",
   "pygments_lexer": "ipython3",
   "version": "3.9.4"
  },
  "orig_nbformat": 4
 },
 "nbformat": 4,
 "nbformat_minor": 2
}
