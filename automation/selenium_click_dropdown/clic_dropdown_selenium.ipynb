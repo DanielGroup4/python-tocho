{
 "cells": [
  {
   "cell_type": "code",
   "execution_count": 19,
   "metadata": {},
   "outputs": [],
   "source": [
    "from selenium import webdriver\n",
    "from selenium.webdriver.support.ui import Select\n",
    "import pandas as pd\n",
    "import time # detener el proceso por unos segundos"
   ]
  },
  {
   "cell_type": "code",
   "execution_count": 2,
   "metadata": {},
   "outputs": [],
   "source": [
    "website = 'https://www.adamchoi.co.uk/teamgoals/detailed'"
   ]
  },
  {
   "cell_type": "code",
   "execution_count": 4,
   "metadata": {},
   "outputs": [],
   "source": [
    "Path_driver = r'C:\\Users\\Dael\\Documents\\1._IT\\1_PYTHON and R\\commited\\webScraping\\selenium\\chromedriver.exe'"
   ]
  },
  {
   "cell_type": "code",
   "execution_count": 20,
   "metadata": {},
   "outputs": [
    {
     "name": "stderr",
     "output_type": "stream",
     "text": [
      "C:\\Users\\Public\\Documents\\Wondershare\\CreatorTemp/ipykernel_8788/3297349533.py:1: DeprecationWarning: executable_path has been deprecated, please pass in a Service object\n",
      "  driver = webdriver.Chrome(Path_driver)\n",
      "C:\\Users\\Public\\Documents\\Wondershare\\CreatorTemp/ipykernel_8788/3297349533.py:7: DeprecationWarning: find_element_by_* commands are deprecated. Please use find_element() instead\n",
      "  all_matches_button = driver.find_element_by_xpath('//label[@analytics-event=\"All matches\"]')\n",
      "C:\\Users\\Public\\Documents\\Wondershare\\CreatorTemp/ipykernel_8788/3297349533.py:11: DeprecationWarning: find_element_by_* commands are deprecated. Please use find_element() instead\n",
      "  dropdown = Select(driver.find_element_by_id('country'))\n",
      "C:\\Users\\Public\\Documents\\Wondershare\\CreatorTemp/ipykernel_8788/3297349533.py:18: DeprecationWarning: find_elements_by_* commands are deprecated. Please use find_elements() instead\n",
      "  matches = driver.find_elements_by_tag_name('tr')\n"
     ]
    }
   ],
   "source": [
    "driver = webdriver.Chrome(Path_driver)\n",
    "\n",
    "# esto abre la pagina web\n",
    "driver.get(website)\n",
    "\n",
    "# clic en boton all matches\n",
    "all_matches_button = driver.find_element_by_xpath('//label[@analytics-event=\"All matches\"]')\n",
    "all_matches_button.click()\n",
    "\n",
    "# seleccionar lista desplegable\n",
    "dropdown = Select(driver.find_element_by_id('country'))\n",
    "dropdown.select_by_visible_text('Mexico')\n",
    "\n",
    "# esperar a que cargue la lista desplegable\n",
    "time.sleep(6) # proceso se va a detener 6 segundos luego de elegir el país \n",
    "\n",
    "# data de cada linea de partidos de futbol\n",
    "matches = driver.find_elements_by_tag_name('tr')\n",
    "\n",
    "partidos = []\n",
    "for match in matches:\n",
    "    partidos.append(match.text)\n",
    "    \n",
    "# cerrando el driver de Chrome\n",
    "driver.quit()\n",
    "\n",
    "# creando un dataframe de los datos extraidos\n",
    "df = pd.DataFrame({'partidos': partidos})\n",
    "df\n",
    "\n",
    "# pasar el df a un archivo csv\n",
    "df.to_csv('data_de_partidos.csv', index=False)\n"
   ]
  },
  {
   "cell_type": "code",
   "execution_count": null,
   "metadata": {},
   "outputs": [],
   "source": []
  }
 ],
 "metadata": {
  "interpreter": {
   "hash": "ae348e0f777588bb58f956cff9d5ae7fdbaaca50585c86b5937c18b13ea01da8"
  },
  "kernelspec": {
   "display_name": "Python 3.9.4 64-bit ('web_scraping_env': venv)",
   "language": "python",
   "name": "python3"
  },
  "language_info": {
   "codemirror_mode": {
    "name": "ipython",
    "version": 3
   },
   "file_extension": ".py",
   "mimetype": "text/x-python",
   "name": "python",
   "nbconvert_exporter": "python",
   "pygments_lexer": "ipython3",
   "version": "3.9.4"
  },
  "orig_nbformat": 4
 },
 "nbformat": 4,
 "nbformat_minor": 2
}
