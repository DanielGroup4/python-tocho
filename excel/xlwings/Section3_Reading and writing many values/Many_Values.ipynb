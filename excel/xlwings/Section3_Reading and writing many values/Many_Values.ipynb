{
 "cells": [
  {
   "cell_type": "markdown",
   "metadata": {},
   "source": [
    "# Reading and Writing many Values"
   ]
  },
  {
   "cell_type": "markdown",
   "metadata": {},
   "source": [
    "## One-dimensional (1d) Structures"
   ]
  },
  {
   "cell_type": "code",
   "execution_count": 1,
   "metadata": {},
   "outputs": [],
   "source": [
    "import xlwings as xw"
   ]
  },
  {
   "cell_type": "code",
   "execution_count": 2,
   "metadata": {},
   "outputs": [
    {
     "data": {
      "text/plain": [
       "<Book [Libro1]>"
      ]
     },
     "execution_count": 2,
     "metadata": {},
     "output_type": "execute_result"
    }
   ],
   "source": [
    "wb = xw.Book()\n",
    "wb"
   ]
  },
  {
   "cell_type": "code",
   "execution_count": 3,
   "metadata": {},
   "outputs": [
    {
     "data": {
      "text/plain": [
       "<Sheet [Libro1]Hoja1>"
      ]
     },
     "execution_count": 3,
     "metadata": {},
     "output_type": "execute_result"
    }
   ],
   "source": [
    "sheet = wb.sheets[0]\n",
    "sheet"
   ]
  },
  {
   "cell_type": "code",
   "execution_count": 4,
   "metadata": {},
   "outputs": [],
   "source": [
    "sheet.range(\"A1\").value = 123"
   ]
  },
  {
   "cell_type": "code",
   "execution_count": 5,
   "metadata": {},
   "outputs": [
    {
     "data": {
      "text/plain": [
       "123.0"
      ]
     },
     "execution_count": 5,
     "metadata": {},
     "output_type": "execute_result"
    }
   ],
   "source": [
    "sheet.range(\"A1\").value"
   ]
  },
  {
   "cell_type": "code",
   "execution_count": 6,
   "metadata": {},
   "outputs": [],
   "source": [
    "l = [1, 2, 3, 4]"
   ]
  },
  {
   "cell_type": "code",
   "execution_count": 7,
   "metadata": {},
   "outputs": [],
   "source": [
    "sheet.range(\"A1\").value = l #writing a list horizontally"
   ]
  },
  {
   "cell_type": "code",
   "execution_count": 8,
   "metadata": {},
   "outputs": [
    {
     "data": {
      "text/plain": [
       "1.0"
      ]
     },
     "execution_count": 8,
     "metadata": {},
     "output_type": "execute_result"
    }
   ],
   "source": [
    "sheet.range(\"A1\").value"
   ]
  },
  {
   "cell_type": "code",
   "execution_count": 9,
   "metadata": {},
   "outputs": [
    {
     "data": {
      "text/plain": [
       "2.0"
      ]
     },
     "execution_count": 9,
     "metadata": {},
     "output_type": "execute_result"
    }
   ],
   "source": [
    "sheet.range(\"B1\").value"
   ]
  },
  {
   "cell_type": "code",
   "execution_count": 10,
   "metadata": {},
   "outputs": [
    {
     "data": {
      "text/plain": [
       "[1.0, 2.0, 3.0, 4.0]"
      ]
     },
     "execution_count": 10,
     "metadata": {},
     "output_type": "execute_result"
    }
   ],
   "source": [
    "sheet.range(\"A1:D1\").value #reading an excel row into a list"
   ]
  },
  {
   "cell_type": "code",
   "execution_count": 11,
   "metadata": {},
   "outputs": [],
   "source": [
    "#writing a scalar value multiple times (horizontally)\n",
    "sheet.range(\"A2:D2\").value = 765 "
   ]
  },
  {
   "cell_type": "code",
   "execution_count": 12,
   "metadata": {},
   "outputs": [
    {
     "data": {
      "text/plain": [
       "[765.0, 765.0, 765.0, 765.0]"
      ]
     },
     "execution_count": 12,
     "metadata": {},
     "output_type": "execute_result"
    }
   ],
   "source": [
    "sheet.range(\"A2:D2\").value #reading an excel row into a list"
   ]
  },
  {
   "cell_type": "code",
   "execution_count": 13,
   "metadata": {},
   "outputs": [],
   "source": [
    "l2 = [5, 6, 7]"
   ]
  },
  {
   "cell_type": "code",
   "execution_count": 14,
   "metadata": {},
   "outputs": [],
   "source": [
    "#writing a list vertically\n",
    "sheet.range(\"A3:A5\").value = l2 #this does not work!"
   ]
  },
  {
   "cell_type": "code",
   "execution_count": 15,
   "metadata": {},
   "outputs": [],
   "source": [
    "#writing a scalar value multiple times (vertically)\n",
    "sheet.range(\"A4:A6\").value = 423 #this works!"
   ]
  },
  {
   "cell_type": "code",
   "execution_count": 16,
   "metadata": {},
   "outputs": [
    {
     "data": {
      "text/plain": [
       "[1.0, 765.0, 5.0, 423.0, 423.0, 423.0]"
      ]
     },
     "execution_count": 16,
     "metadata": {},
     "output_type": "execute_result"
    }
   ],
   "source": [
    "sheet.range(\"A1:A6\").value #reading an excel column into a list"
   ]
  },
  {
   "cell_type": "code",
   "execution_count": null,
   "metadata": {},
   "outputs": [],
   "source": []
  },
  {
   "cell_type": "markdown",
   "metadata": {},
   "source": [
    "## How to write lists vertically"
   ]
  },
  {
   "cell_type": "code",
   "execution_count": 17,
   "metadata": {},
   "outputs": [],
   "source": [
    "l2 = [5, 6, 7]"
   ]
  },
  {
   "cell_type": "code",
   "execution_count": 18,
   "metadata": {},
   "outputs": [],
   "source": [
    "#writing a list vertically\n",
    "sheet.range(\"A7:A9\").value = l2 #this does not work!"
   ]
  },
  {
   "cell_type": "code",
   "execution_count": 19,
   "metadata": {},
   "outputs": [],
   "source": [
    "sheet.range(\"A7\").options(transpose = True).value = l2 #this works"
   ]
  },
  {
   "cell_type": "code",
   "execution_count": null,
   "metadata": {},
   "outputs": [],
   "source": []
  },
  {
   "cell_type": "markdown",
   "metadata": {},
   "source": [
    "## Reading Rows and Columns (1dim vs. 2dim)"
   ]
  },
  {
   "cell_type": "code",
   "execution_count": 20,
   "metadata": {},
   "outputs": [
    {
     "data": {
      "text/plain": [
       "[1.0, 2.0, 3.0, 4.0]"
      ]
     },
     "execution_count": 20,
     "metadata": {},
     "output_type": "execute_result"
    }
   ],
   "source": [
    "sheet.range(\"A1:D1\").value #1dim"
   ]
  },
  {
   "cell_type": "code",
   "execution_count": 21,
   "metadata": {},
   "outputs": [
    {
     "data": {
      "text/plain": [
       "[1.0, 765.0, 5.0, 423.0, 423.0, 423.0, 5.0, 6.0, 7.0]"
      ]
     },
     "execution_count": 21,
     "metadata": {},
     "output_type": "execute_result"
    }
   ],
   "source": [
    "sheet.range(\"A1:A9\").value #1dim"
   ]
  },
  {
   "cell_type": "code",
   "execution_count": 22,
   "metadata": {},
   "outputs": [
    {
     "data": {
      "text/plain": [
       "[1.0, 765.0, 5.0, 423.0, 423.0, 423.0, 5.0, 6.0, 7.0]"
      ]
     },
     "execution_count": 22,
     "metadata": {},
     "output_type": "execute_result"
    }
   ],
   "source": [
    "sheet.range(\"A1:A9\").options(ndim = 1).value #1dim"
   ]
  },
  {
   "cell_type": "code",
   "execution_count": 23,
   "metadata": {},
   "outputs": [
    {
     "data": {
      "text/plain": [
       "[[1.0], [765.0], [5.0], [423.0], [423.0], [423.0], [5.0], [6.0], [7.0]]"
      ]
     },
     "execution_count": 23,
     "metadata": {},
     "output_type": "execute_result"
    }
   ],
   "source": [
    "sheet.range(\"A1:A9\").options(ndim = 2).value #2dim"
   ]
  },
  {
   "cell_type": "code",
   "execution_count": 24,
   "metadata": {},
   "outputs": [
    {
     "data": {
      "text/plain": [
       "[1.0, 2.0, 3.0, 4.0]"
      ]
     },
     "execution_count": 24,
     "metadata": {},
     "output_type": "execute_result"
    }
   ],
   "source": [
    "sheet.range(\"A1:D1\").options(ndim = 1).value #1dim"
   ]
  },
  {
   "cell_type": "code",
   "execution_count": 25,
   "metadata": {},
   "outputs": [
    {
     "data": {
      "text/plain": [
       "[[1.0, 2.0, 3.0, 4.0]]"
      ]
     },
     "execution_count": 25,
     "metadata": {},
     "output_type": "execute_result"
    }
   ],
   "source": [
    "sheet.range(\"A1:D1\").options(ndim = 2).value #1dim"
   ]
  },
  {
   "cell_type": "code",
   "execution_count": null,
   "metadata": {},
   "outputs": [],
   "source": []
  },
  {
   "cell_type": "markdown",
   "metadata": {},
   "source": [
    "## How to read two-dimensional (2d) Structures"
   ]
  },
  {
   "cell_type": "code",
   "execution_count": 26,
   "metadata": {},
   "outputs": [],
   "source": [
    "sheet.range(\"A4:A9\").clear()"
   ]
  },
  {
   "cell_type": "code",
   "execution_count": 27,
   "metadata": {},
   "outputs": [
    {
     "data": {
      "text/plain": [
       "[[1.0, 2.0, 3.0], [765.0, 765.0, 765.0], [5.0, 6.0, 7.0]]"
      ]
     },
     "execution_count": 27,
     "metadata": {},
     "output_type": "execute_result"
    }
   ],
   "source": [
    "sheet.range(\"A1:C3\").value"
   ]
  },
  {
   "cell_type": "code",
   "execution_count": 28,
   "metadata": {},
   "outputs": [
    {
     "data": {
      "text/plain": [
       "[[1.0, 2.0, 3.0, 4.0], [765.0, 765.0, 765.0, 765.0], [5.0, 6.0, 7.0, None]]"
      ]
     },
     "execution_count": 28,
     "metadata": {},
     "output_type": "execute_result"
    }
   ],
   "source": [
    "sheet.range(\"A1:D3\").value"
   ]
  },
  {
   "cell_type": "code",
   "execution_count": 29,
   "metadata": {},
   "outputs": [
    {
     "data": {
      "text/plain": [
       "[[1.0, 2.0, 3.0, 4.0, None],\n",
       " [765.0, 765.0, 765.0, 765.0, None],\n",
       " [5.0, 6.0, 7.0, None, None],\n",
       " [None, None, None, None, None]]"
      ]
     },
     "execution_count": 29,
     "metadata": {},
     "output_type": "execute_result"
    }
   ],
   "source": [
    "sheet.range(\"A1:E4\").value"
   ]
  },
  {
   "cell_type": "code",
   "execution_count": 30,
   "metadata": {},
   "outputs": [
    {
     "data": {
      "text/plain": [
       "[[1.0, 765.0, 5.0], [2.0, 765.0, 6.0], [3.0, 765.0, 7.0]]"
      ]
     },
     "execution_count": 30,
     "metadata": {},
     "output_type": "execute_result"
    }
   ],
   "source": [
    "sheet.range(\"A1:C3\").options(transpose = True).value #transposed"
   ]
  },
  {
   "cell_type": "code",
   "execution_count": null,
   "metadata": {},
   "outputs": [],
   "source": []
  },
  {
   "cell_type": "markdown",
   "metadata": {},
   "source": [
    "## Reading with expand"
   ]
  },
  {
   "cell_type": "code",
   "execution_count": 31,
   "metadata": {},
   "outputs": [
    {
     "data": {
      "text/plain": [
       "[1.0, 2.0, 3.0, 4.0]"
      ]
     },
     "execution_count": 31,
     "metadata": {},
     "output_type": "execute_result"
    }
   ],
   "source": [
    "sheet.range(\"A1:D1\").value"
   ]
  },
  {
   "cell_type": "code",
   "execution_count": 32,
   "metadata": {},
   "outputs": [
    {
     "data": {
      "text/plain": [
       "[1.0, 2.0, 3.0, 4.0]"
      ]
     },
     "execution_count": 32,
     "metadata": {},
     "output_type": "execute_result"
    }
   ],
   "source": [
    "sheet.range(\"A1\").expand(\"right\").value #full row (CTRL+SHIFT+Right)"
   ]
  },
  {
   "cell_type": "code",
   "execution_count": 33,
   "metadata": {},
   "outputs": [
    {
     "data": {
      "text/plain": [
       "[1.0, 765.0, 5.0]"
      ]
     },
     "execution_count": 33,
     "metadata": {},
     "output_type": "execute_result"
    }
   ],
   "source": [
    "sheet.range(\"A1\").expand(\"down\").value #full column (CTRL+SHIFT+DOWN)"
   ]
  },
  {
   "cell_type": "code",
   "execution_count": 34,
   "metadata": {},
   "outputs": [
    {
     "data": {
      "text/plain": [
       "[[1.0, 2.0, 3.0, 4.0], [765.0, 765.0, 765.0, 765.0], [5.0, 6.0, 7.0, None]]"
      ]
     },
     "execution_count": 34,
     "metadata": {},
     "output_type": "execute_result"
    }
   ],
   "source": [
    "sheet.range(\"A1\").expand(\"table\").value #full table (CTRL+SHIFT+DOWN+Right)"
   ]
  },
  {
   "cell_type": "code",
   "execution_count": 35,
   "metadata": {},
   "outputs": [
    {
     "data": {
      "text/plain": [
       "[[1.0, 2.0, 3.0, 4.0], [765.0, 765.0, 765.0, 765.0], [5.0, 6.0, 7.0, None]]"
      ]
     },
     "execution_count": 35,
     "metadata": {},
     "output_type": "execute_result"
    }
   ],
   "source": [
    "sheet.range(\"A1\").expand().value #full table (CTRL+SHIFT+DOWN+Right)"
   ]
  },
  {
   "cell_type": "code",
   "execution_count": 36,
   "metadata": {},
   "outputs": [
    {
     "data": {
      "text/plain": [
       "[[1.0, 2.0, 3.0, 4.0], [765.0, 765.0, 765.0, 765.0], [5.0, 6.0, 7.0, None]]"
      ]
     },
     "execution_count": 36,
     "metadata": {},
     "output_type": "execute_result"
    }
   ],
   "source": [
    "sheet.range(\"A1\").options(expand = \"table\").value #full table (CTRL+SHIFT+DOWN+Right)"
   ]
  },
  {
   "cell_type": "code",
   "execution_count": 37,
   "metadata": {},
   "outputs": [
    {
     "data": {
      "text/plain": [
       "[[1.0], [765.0], [5.0]]"
      ]
     },
     "execution_count": 37,
     "metadata": {},
     "output_type": "execute_result"
    }
   ],
   "source": [
    "sheet.range(\"A1\").options(ndim = 2, expand = \"down\").value #full column (2dim)"
   ]
  },
  {
   "cell_type": "code",
   "execution_count": null,
   "metadata": {},
   "outputs": [],
   "source": []
  },
  {
   "cell_type": "markdown",
   "metadata": {},
   "source": [
    "## How to write two-dimensional (2d) Structures"
   ]
  },
  {
   "cell_type": "code",
   "execution_count": 38,
   "metadata": {},
   "outputs": [],
   "source": [
    "sheet.range(\"A4\").value = [[1, 2], [3, 4]]"
   ]
  },
  {
   "cell_type": "code",
   "execution_count": 39,
   "metadata": {},
   "outputs": [],
   "source": [
    "sheet.range(\"A7\").options(transpose = True).value = [5, 6, 7] "
   ]
  },
  {
   "cell_type": "code",
   "execution_count": 40,
   "metadata": {},
   "outputs": [],
   "source": [
    "sheet.range(\"A7\").value = [[5], [6], [7]] "
   ]
  },
  {
   "cell_type": "code",
   "execution_count": null,
   "metadata": {},
   "outputs": [],
   "source": []
  },
  {
   "cell_type": "markdown",
   "metadata": {},
   "source": [
    "## Range Indexing & Slicing"
   ]
  },
  {
   "cell_type": "code",
   "execution_count": 41,
   "metadata": {},
   "outputs": [
    {
     "data": {
      "text/plain": [
       "[1.0, 2.0, 3.0, 4.0]"
      ]
     },
     "execution_count": 41,
     "metadata": {},
     "output_type": "execute_result"
    }
   ],
   "source": [
    "sheet.range(\"A1:D1\").value"
   ]
  },
  {
   "cell_type": "code",
   "execution_count": 42,
   "metadata": {},
   "outputs": [
    {
     "data": {
      "text/plain": [
       "1.0"
      ]
     },
     "execution_count": 42,
     "metadata": {},
     "output_type": "execute_result"
    }
   ],
   "source": [
    "sheet.range(\"A1:D1\")[0].value #first element    "
   ]
  },
  {
   "cell_type": "code",
   "execution_count": 43,
   "metadata": {},
   "outputs": [
    {
     "data": {
      "text/plain": [
       "[1.0, 2.0]"
      ]
     },
     "execution_count": 43,
     "metadata": {},
     "output_type": "execute_result"
    }
   ],
   "source": [
    "sheet.range(\"A1:D1\")[:2].value #first two elements"
   ]
  },
  {
   "cell_type": "code",
   "execution_count": 44,
   "metadata": {},
   "outputs": [
    {
     "data": {
      "text/plain": [
       "[3.0, 4.0]"
      ]
     },
     "execution_count": 44,
     "metadata": {},
     "output_type": "execute_result"
    }
   ],
   "source": [
    "sheet.range(\"A1:D1\")[-2:].value #last two elements"
   ]
  },
  {
   "cell_type": "code",
   "execution_count": 45,
   "metadata": {},
   "outputs": [
    {
     "data": {
      "text/plain": [
       "1.0"
      ]
     },
     "execution_count": 45,
     "metadata": {},
     "output_type": "execute_result"
    }
   ],
   "source": [
    "sheet.range(\"A1:A5\")[3].value #fourth element"
   ]
  },
  {
   "cell_type": "code",
   "execution_count": 46,
   "metadata": {
    "scrolled": true
   },
   "outputs": [
    {
     "data": {
      "text/plain": [
       "[[1.0, 2.0, 3.0, 4.0], [765.0, 765.0, 765.0, 765.0], [5.0, 6.0, 7.0, None]]"
      ]
     },
     "execution_count": 46,
     "metadata": {},
     "output_type": "execute_result"
    }
   ],
   "source": [
    "sheet.range(\"A1:D3\").value"
   ]
  },
  {
   "cell_type": "code",
   "execution_count": 47,
   "metadata": {},
   "outputs": [
    {
     "data": {
      "text/plain": [
       "1.0"
      ]
     },
     "execution_count": 47,
     "metadata": {},
     "output_type": "execute_result"
    }
   ],
   "source": [
    "sheet.range(\"A1:D3\")[0].value #first element"
   ]
  },
  {
   "cell_type": "code",
   "execution_count": 48,
   "metadata": {},
   "outputs": [
    {
     "data": {
      "text/plain": [
       "6.0"
      ]
     },
     "execution_count": 48,
     "metadata": {},
     "output_type": "execute_result"
    }
   ],
   "source": [
    "sheet.range(\"A1:D3\")[9].value #tenth element"
   ]
  },
  {
   "cell_type": "code",
   "execution_count": 49,
   "metadata": {},
   "outputs": [
    {
     "data": {
      "text/plain": [
       "1.0"
      ]
     },
     "execution_count": 49,
     "metadata": {},
     "output_type": "execute_result"
    }
   ],
   "source": [
    "sheet.range(\"A1:D3\")[0, 0].value #row = 0, column = 0"
   ]
  },
  {
   "cell_type": "code",
   "execution_count": 50,
   "metadata": {},
   "outputs": [
    {
     "data": {
      "text/plain": [
       "2.0"
      ]
     },
     "execution_count": 50,
     "metadata": {},
     "output_type": "execute_result"
    }
   ],
   "source": [
    "sheet.range(\"A1:D3\")[0, 1].value #row = 0, column = 1"
   ]
  },
  {
   "cell_type": "code",
   "execution_count": 51,
   "metadata": {},
   "outputs": [
    {
     "data": {
      "text/plain": [
       "[765.0, 765.0, 765.0, 765.0]"
      ]
     },
     "execution_count": 51,
     "metadata": {},
     "output_type": "execute_result"
    }
   ],
   "source": [
    "sheet.range(\"A1:D3\")[1, :].value #second row"
   ]
  },
  {
   "cell_type": "code",
   "execution_count": 52,
   "metadata": {},
   "outputs": [
    {
     "data": {
      "text/plain": [
       "[4.0, 765.0, None]"
      ]
     },
     "execution_count": 52,
     "metadata": {},
     "output_type": "execute_result"
    }
   ],
   "source": [
    "sheet.range(\"A1:D3\")[:, 3].value #fourth column"
   ]
  },
  {
   "cell_type": "code",
   "execution_count": 53,
   "metadata": {},
   "outputs": [
    {
     "data": {
      "text/plain": [
       "[[3.0, 4.0], [765.0, 765.0]]"
      ]
     },
     "execution_count": 53,
     "metadata": {},
     "output_type": "execute_result"
    }
   ],
   "source": [
    "sheet.range(\"A1:D3\")[:2, -2:].value #first 2 rows, last 2 columns"
   ]
  },
  {
   "cell_type": "code",
   "execution_count": 54,
   "metadata": {},
   "outputs": [
    {
     "data": {
      "text/plain": [
       "[[1.0, 2.0], [765.0, 765.0], [5.0, 6.0], [1.0, 2.0], [3.0, 4.0]]"
      ]
     },
     "execution_count": 54,
     "metadata": {},
     "output_type": "execute_result"
    }
   ],
   "source": [
    "sheet.range(\"A1\").expand()[:, :2].value #first two columns "
   ]
  },
  {
   "cell_type": "code",
   "execution_count": null,
   "metadata": {},
   "outputs": [],
   "source": []
  },
  {
   "cell_type": "markdown",
   "metadata": {},
   "source": [
    "## Efficiency"
   ]
  },
  {
   "cell_type": "code",
   "execution_count": 55,
   "metadata": {},
   "outputs": [],
   "source": [
    "import xlwings as xw\n",
    "import numpy as np"
   ]
  },
  {
   "cell_type": "code",
   "execution_count": 56,
   "metadata": {},
   "outputs": [
    {
     "data": {
      "text/plain": [
       "<Book [Libro1]>"
      ]
     },
     "execution_count": 56,
     "metadata": {},
     "output_type": "execute_result"
    }
   ],
   "source": [
    "wb = xw.Book()\n",
    "wb"
   ]
  },
  {
   "cell_type": "code",
   "execution_count": 57,
   "metadata": {},
   "outputs": [
    {
     "data": {
      "text/plain": [
       "<Sheet [Libro1]Hoja1>"
      ]
     },
     "execution_count": 57,
     "metadata": {},
     "output_type": "execute_result"
    }
   ],
   "source": [
    "sheet = wb.sheets[0]\n",
    "sheet"
   ]
  },
  {
   "cell_type": "code",
   "execution_count": 58,
   "metadata": {},
   "outputs": [
    {
     "data": {
      "text/plain": [
       "[(0, <Range [Libro1]Hoja1!$A$1>),\n",
       " (1, <Range [Libro1]Hoja1!$B$1>),\n",
       " (2, <Range [Libro1]Hoja1!$C$1>),\n",
       " (3, <Range [Libro1]Hoja1!$D$1>),\n",
       " (4, <Range [Libro1]Hoja1!$E$1>),\n",
       " (5, <Range [Libro1]Hoja1!$A$2>),\n",
       " (6, <Range [Libro1]Hoja1!$B$2>),\n",
       " (7, <Range [Libro1]Hoja1!$C$2>),\n",
       " (8, <Range [Libro1]Hoja1!$D$2>),\n",
       " (9, <Range [Libro1]Hoja1!$E$2>),\n",
       " (10, <Range [Libro1]Hoja1!$A$3>),\n",
       " (11, <Range [Libro1]Hoja1!$B$3>),\n",
       " (12, <Range [Libro1]Hoja1!$C$3>),\n",
       " (13, <Range [Libro1]Hoja1!$D$3>),\n",
       " (14, <Range [Libro1]Hoja1!$E$3>),\n",
       " (15, <Range [Libro1]Hoja1!$A$4>),\n",
       " (16, <Range [Libro1]Hoja1!$B$4>),\n",
       " (17, <Range [Libro1]Hoja1!$C$4>),\n",
       " (18, <Range [Libro1]Hoja1!$D$4>),\n",
       " (19, <Range [Libro1]Hoja1!$E$4>),\n",
       " (20, <Range [Libro1]Hoja1!$A$5>),\n",
       " (21, <Range [Libro1]Hoja1!$B$5>),\n",
       " (22, <Range [Libro1]Hoja1!$C$5>),\n",
       " (23, <Range [Libro1]Hoja1!$D$5>),\n",
       " (24, <Range [Libro1]Hoja1!$E$5>),\n",
       " (25, <Range [Libro1]Hoja1!$A$6>),\n",
       " (26, <Range [Libro1]Hoja1!$B$6>),\n",
       " (27, <Range [Libro1]Hoja1!$C$6>),\n",
       " (28, <Range [Libro1]Hoja1!$D$6>),\n",
       " (29, <Range [Libro1]Hoja1!$E$6>),\n",
       " (30, <Range [Libro1]Hoja1!$A$7>),\n",
       " (31, <Range [Libro1]Hoja1!$B$7>),\n",
       " (32, <Range [Libro1]Hoja1!$C$7>),\n",
       " (33, <Range [Libro1]Hoja1!$D$7>),\n",
       " (34, <Range [Libro1]Hoja1!$E$7>),\n",
       " (35, <Range [Libro1]Hoja1!$A$8>),\n",
       " (36, <Range [Libro1]Hoja1!$B$8>),\n",
       " (37, <Range [Libro1]Hoja1!$C$8>),\n",
       " (38, <Range [Libro1]Hoja1!$D$8>),\n",
       " (39, <Range [Libro1]Hoja1!$E$8>),\n",
       " (40, <Range [Libro1]Hoja1!$A$9>),\n",
       " (41, <Range [Libro1]Hoja1!$B$9>),\n",
       " (42, <Range [Libro1]Hoja1!$C$9>),\n",
       " (43, <Range [Libro1]Hoja1!$D$9>),\n",
       " (44, <Range [Libro1]Hoja1!$E$9>),\n",
       " (45, <Range [Libro1]Hoja1!$A$10>),\n",
       " (46, <Range [Libro1]Hoja1!$B$10>),\n",
       " (47, <Range [Libro1]Hoja1!$C$10>),\n",
       " (48, <Range [Libro1]Hoja1!$D$10>),\n",
       " (49, <Range [Libro1]Hoja1!$E$10>),\n",
       " (50, <Range [Libro1]Hoja1!$A$11>),\n",
       " (51, <Range [Libro1]Hoja1!$B$11>),\n",
       " (52, <Range [Libro1]Hoja1!$C$11>),\n",
       " (53, <Range [Libro1]Hoja1!$D$11>),\n",
       " (54, <Range [Libro1]Hoja1!$E$11>),\n",
       " (55, <Range [Libro1]Hoja1!$A$12>),\n",
       " (56, <Range [Libro1]Hoja1!$B$12>),\n",
       " (57, <Range [Libro1]Hoja1!$C$12>),\n",
       " (58, <Range [Libro1]Hoja1!$D$12>),\n",
       " (59, <Range [Libro1]Hoja1!$E$12>),\n",
       " (60, <Range [Libro1]Hoja1!$A$13>),\n",
       " (61, <Range [Libro1]Hoja1!$B$13>),\n",
       " (62, <Range [Libro1]Hoja1!$C$13>),\n",
       " (63, <Range [Libro1]Hoja1!$D$13>),\n",
       " (64, <Range [Libro1]Hoja1!$E$13>),\n",
       " (65, <Range [Libro1]Hoja1!$A$14>),\n",
       " (66, <Range [Libro1]Hoja1!$B$14>),\n",
       " (67, <Range [Libro1]Hoja1!$C$14>),\n",
       " (68, <Range [Libro1]Hoja1!$D$14>),\n",
       " (69, <Range [Libro1]Hoja1!$E$14>),\n",
       " (70, <Range [Libro1]Hoja1!$A$15>),\n",
       " (71, <Range [Libro1]Hoja1!$B$15>),\n",
       " (72, <Range [Libro1]Hoja1!$C$15>),\n",
       " (73, <Range [Libro1]Hoja1!$D$15>),\n",
       " (74, <Range [Libro1]Hoja1!$E$15>),\n",
       " (75, <Range [Libro1]Hoja1!$A$16>),\n",
       " (76, <Range [Libro1]Hoja1!$B$16>),\n",
       " (77, <Range [Libro1]Hoja1!$C$16>),\n",
       " (78, <Range [Libro1]Hoja1!$D$16>),\n",
       " (79, <Range [Libro1]Hoja1!$E$16>),\n",
       " (80, <Range [Libro1]Hoja1!$A$17>),\n",
       " (81, <Range [Libro1]Hoja1!$B$17>),\n",
       " (82, <Range [Libro1]Hoja1!$C$17>),\n",
       " (83, <Range [Libro1]Hoja1!$D$17>),\n",
       " (84, <Range [Libro1]Hoja1!$E$17>),\n",
       " (85, <Range [Libro1]Hoja1!$A$18>),\n",
       " (86, <Range [Libro1]Hoja1!$B$18>),\n",
       " (87, <Range [Libro1]Hoja1!$C$18>),\n",
       " (88, <Range [Libro1]Hoja1!$D$18>),\n",
       " (89, <Range [Libro1]Hoja1!$E$18>),\n",
       " (90, <Range [Libro1]Hoja1!$A$19>),\n",
       " (91, <Range [Libro1]Hoja1!$B$19>),\n",
       " (92, <Range [Libro1]Hoja1!$C$19>),\n",
       " (93, <Range [Libro1]Hoja1!$D$19>),\n",
       " (94, <Range [Libro1]Hoja1!$E$19>),\n",
       " (95, <Range [Libro1]Hoja1!$A$20>),\n",
       " (96, <Range [Libro1]Hoja1!$B$20>),\n",
       " (97, <Range [Libro1]Hoja1!$C$20>),\n",
       " (98, <Range [Libro1]Hoja1!$D$20>),\n",
       " (99, <Range [Libro1]Hoja1!$E$20>),\n",
       " (100, <Range [Libro1]Hoja1!$A$21>),\n",
       " (101, <Range [Libro1]Hoja1!$B$21>),\n",
       " (102, <Range [Libro1]Hoja1!$C$21>),\n",
       " (103, <Range [Libro1]Hoja1!$D$21>),\n",
       " (104, <Range [Libro1]Hoja1!$E$21>),\n",
       " (105, <Range [Libro1]Hoja1!$A$22>),\n",
       " (106, <Range [Libro1]Hoja1!$B$22>),\n",
       " (107, <Range [Libro1]Hoja1!$C$22>),\n",
       " (108, <Range [Libro1]Hoja1!$D$22>),\n",
       " (109, <Range [Libro1]Hoja1!$E$22>),\n",
       " (110, <Range [Libro1]Hoja1!$A$23>),\n",
       " (111, <Range [Libro1]Hoja1!$B$23>),\n",
       " (112, <Range [Libro1]Hoja1!$C$23>),\n",
       " (113, <Range [Libro1]Hoja1!$D$23>),\n",
       " (114, <Range [Libro1]Hoja1!$E$23>),\n",
       " (115, <Range [Libro1]Hoja1!$A$24>),\n",
       " (116, <Range [Libro1]Hoja1!$B$24>),\n",
       " (117, <Range [Libro1]Hoja1!$C$24>),\n",
       " (118, <Range [Libro1]Hoja1!$D$24>),\n",
       " (119, <Range [Libro1]Hoja1!$E$24>),\n",
       " (120, <Range [Libro1]Hoja1!$A$25>),\n",
       " (121, <Range [Libro1]Hoja1!$B$25>),\n",
       " (122, <Range [Libro1]Hoja1!$C$25>),\n",
       " (123, <Range [Libro1]Hoja1!$D$25>),\n",
       " (124, <Range [Libro1]Hoja1!$E$25>),\n",
       " (125, <Range [Libro1]Hoja1!$A$26>),\n",
       " (126, <Range [Libro1]Hoja1!$B$26>),\n",
       " (127, <Range [Libro1]Hoja1!$C$26>),\n",
       " (128, <Range [Libro1]Hoja1!$D$26>),\n",
       " (129, <Range [Libro1]Hoja1!$E$26>),\n",
       " (130, <Range [Libro1]Hoja1!$A$27>),\n",
       " (131, <Range [Libro1]Hoja1!$B$27>),\n",
       " (132, <Range [Libro1]Hoja1!$C$27>),\n",
       " (133, <Range [Libro1]Hoja1!$D$27>),\n",
       " (134, <Range [Libro1]Hoja1!$E$27>),\n",
       " (135, <Range [Libro1]Hoja1!$A$28>),\n",
       " (136, <Range [Libro1]Hoja1!$B$28>),\n",
       " (137, <Range [Libro1]Hoja1!$C$28>),\n",
       " (138, <Range [Libro1]Hoja1!$D$28>),\n",
       " (139, <Range [Libro1]Hoja1!$E$28>),\n",
       " (140, <Range [Libro1]Hoja1!$A$29>),\n",
       " (141, <Range [Libro1]Hoja1!$B$29>),\n",
       " (142, <Range [Libro1]Hoja1!$C$29>),\n",
       " (143, <Range [Libro1]Hoja1!$D$29>),\n",
       " (144, <Range [Libro1]Hoja1!$E$29>),\n",
       " (145, <Range [Libro1]Hoja1!$A$30>),\n",
       " (146, <Range [Libro1]Hoja1!$B$30>),\n",
       " (147, <Range [Libro1]Hoja1!$C$30>),\n",
       " (148, <Range [Libro1]Hoja1!$D$30>),\n",
       " (149, <Range [Libro1]Hoja1!$E$30>),\n",
       " (150, <Range [Libro1]Hoja1!$A$31>),\n",
       " (151, <Range [Libro1]Hoja1!$B$31>),\n",
       " (152, <Range [Libro1]Hoja1!$C$31>),\n",
       " (153, <Range [Libro1]Hoja1!$D$31>),\n",
       " (154, <Range [Libro1]Hoja1!$E$31>),\n",
       " (155, <Range [Libro1]Hoja1!$A$32>),\n",
       " (156, <Range [Libro1]Hoja1!$B$32>),\n",
       " (157, <Range [Libro1]Hoja1!$C$32>),\n",
       " (158, <Range [Libro1]Hoja1!$D$32>),\n",
       " (159, <Range [Libro1]Hoja1!$E$32>),\n",
       " (160, <Range [Libro1]Hoja1!$A$33>),\n",
       " (161, <Range [Libro1]Hoja1!$B$33>),\n",
       " (162, <Range [Libro1]Hoja1!$C$33>),\n",
       " (163, <Range [Libro1]Hoja1!$D$33>),\n",
       " (164, <Range [Libro1]Hoja1!$E$33>),\n",
       " (165, <Range [Libro1]Hoja1!$A$34>),\n",
       " (166, <Range [Libro1]Hoja1!$B$34>),\n",
       " (167, <Range [Libro1]Hoja1!$C$34>),\n",
       " (168, <Range [Libro1]Hoja1!$D$34>),\n",
       " (169, <Range [Libro1]Hoja1!$E$34>),\n",
       " (170, <Range [Libro1]Hoja1!$A$35>),\n",
       " (171, <Range [Libro1]Hoja1!$B$35>),\n",
       " (172, <Range [Libro1]Hoja1!$C$35>),\n",
       " (173, <Range [Libro1]Hoja1!$D$35>),\n",
       " (174, <Range [Libro1]Hoja1!$E$35>),\n",
       " (175, <Range [Libro1]Hoja1!$A$36>),\n",
       " (176, <Range [Libro1]Hoja1!$B$36>),\n",
       " (177, <Range [Libro1]Hoja1!$C$36>),\n",
       " (178, <Range [Libro1]Hoja1!$D$36>),\n",
       " (179, <Range [Libro1]Hoja1!$E$36>),\n",
       " (180, <Range [Libro1]Hoja1!$A$37>),\n",
       " (181, <Range [Libro1]Hoja1!$B$37>),\n",
       " (182, <Range [Libro1]Hoja1!$C$37>),\n",
       " (183, <Range [Libro1]Hoja1!$D$37>),\n",
       " (184, <Range [Libro1]Hoja1!$E$37>),\n",
       " (185, <Range [Libro1]Hoja1!$A$38>),\n",
       " (186, <Range [Libro1]Hoja1!$B$38>),\n",
       " (187, <Range [Libro1]Hoja1!$C$38>),\n",
       " (188, <Range [Libro1]Hoja1!$D$38>),\n",
       " (189, <Range [Libro1]Hoja1!$E$38>),\n",
       " (190, <Range [Libro1]Hoja1!$A$39>),\n",
       " (191, <Range [Libro1]Hoja1!$B$39>),\n",
       " (192, <Range [Libro1]Hoja1!$C$39>),\n",
       " (193, <Range [Libro1]Hoja1!$D$39>),\n",
       " (194, <Range [Libro1]Hoja1!$E$39>),\n",
       " (195, <Range [Libro1]Hoja1!$A$40>),\n",
       " (196, <Range [Libro1]Hoja1!$B$40>),\n",
       " (197, <Range [Libro1]Hoja1!$C$40>),\n",
       " (198, <Range [Libro1]Hoja1!$D$40>),\n",
       " (199, <Range [Libro1]Hoja1!$E$40>),\n",
       " (200, <Range [Libro1]Hoja1!$A$41>),\n",
       " (201, <Range [Libro1]Hoja1!$B$41>),\n",
       " (202, <Range [Libro1]Hoja1!$C$41>),\n",
       " (203, <Range [Libro1]Hoja1!$D$41>),\n",
       " (204, <Range [Libro1]Hoja1!$E$41>),\n",
       " (205, <Range [Libro1]Hoja1!$A$42>),\n",
       " (206, <Range [Libro1]Hoja1!$B$42>),\n",
       " (207, <Range [Libro1]Hoja1!$C$42>),\n",
       " (208, <Range [Libro1]Hoja1!$D$42>),\n",
       " (209, <Range [Libro1]Hoja1!$E$42>),\n",
       " (210, <Range [Libro1]Hoja1!$A$43>),\n",
       " (211, <Range [Libro1]Hoja1!$B$43>),\n",
       " (212, <Range [Libro1]Hoja1!$C$43>),\n",
       " (213, <Range [Libro1]Hoja1!$D$43>),\n",
       " (214, <Range [Libro1]Hoja1!$E$43>),\n",
       " (215, <Range [Libro1]Hoja1!$A$44>),\n",
       " (216, <Range [Libro1]Hoja1!$B$44>),\n",
       " (217, <Range [Libro1]Hoja1!$C$44>),\n",
       " (218, <Range [Libro1]Hoja1!$D$44>),\n",
       " (219, <Range [Libro1]Hoja1!$E$44>),\n",
       " (220, <Range [Libro1]Hoja1!$A$45>),\n",
       " (221, <Range [Libro1]Hoja1!$B$45>),\n",
       " (222, <Range [Libro1]Hoja1!$C$45>),\n",
       " (223, <Range [Libro1]Hoja1!$D$45>),\n",
       " (224, <Range [Libro1]Hoja1!$E$45>),\n",
       " (225, <Range [Libro1]Hoja1!$A$46>),\n",
       " (226, <Range [Libro1]Hoja1!$B$46>),\n",
       " (227, <Range [Libro1]Hoja1!$C$46>),\n",
       " (228, <Range [Libro1]Hoja1!$D$46>),\n",
       " (229, <Range [Libro1]Hoja1!$E$46>),\n",
       " (230, <Range [Libro1]Hoja1!$A$47>),\n",
       " (231, <Range [Libro1]Hoja1!$B$47>),\n",
       " (232, <Range [Libro1]Hoja1!$C$47>),\n",
       " (233, <Range [Libro1]Hoja1!$D$47>),\n",
       " (234, <Range [Libro1]Hoja1!$E$47>),\n",
       " (235, <Range [Libro1]Hoja1!$A$48>),\n",
       " (236, <Range [Libro1]Hoja1!$B$48>),\n",
       " (237, <Range [Libro1]Hoja1!$C$48>),\n",
       " (238, <Range [Libro1]Hoja1!$D$48>),\n",
       " (239, <Range [Libro1]Hoja1!$E$48>),\n",
       " (240, <Range [Libro1]Hoja1!$A$49>),\n",
       " (241, <Range [Libro1]Hoja1!$B$49>),\n",
       " (242, <Range [Libro1]Hoja1!$C$49>),\n",
       " (243, <Range [Libro1]Hoja1!$D$49>),\n",
       " (244, <Range [Libro1]Hoja1!$E$49>),\n",
       " (245, <Range [Libro1]Hoja1!$A$50>),\n",
       " (246, <Range [Libro1]Hoja1!$B$50>),\n",
       " (247, <Range [Libro1]Hoja1!$C$50>),\n",
       " (248, <Range [Libro1]Hoja1!$D$50>),\n",
       " (249, <Range [Libro1]Hoja1!$E$50>)]"
      ]
     },
     "execution_count": 58,
     "metadata": {},
     "output_type": "execute_result"
    }
   ],
   "source": [
    "list(enumerate(sheet.range(\"A1:E50\")))"
   ]
  },
  {
   "cell_type": "code",
   "execution_count": 59,
   "metadata": {},
   "outputs": [],
   "source": [
    "for i, cell in enumerate(sheet.range(\"A1:E50\")):\n",
    "    cell.value = i"
   ]
  },
  {
   "cell_type": "code",
   "execution_count": 60,
   "metadata": {},
   "outputs": [],
   "source": [
    "sheet.range(\"A1:E50\").clear()"
   ]
  },
  {
   "cell_type": "code",
   "execution_count": 61,
   "metadata": {},
   "outputs": [
    {
     "data": {
      "text/plain": [
       "array([[  0,   1,   2,   3,   4],\n",
       "       [  5,   6,   7,   8,   9],\n",
       "       [ 10,  11,  12,  13,  14],\n",
       "       [ 15,  16,  17,  18,  19],\n",
       "       [ 20,  21,  22,  23,  24],\n",
       "       [ 25,  26,  27,  28,  29],\n",
       "       [ 30,  31,  32,  33,  34],\n",
       "       [ 35,  36,  37,  38,  39],\n",
       "       [ 40,  41,  42,  43,  44],\n",
       "       [ 45,  46,  47,  48,  49],\n",
       "       [ 50,  51,  52,  53,  54],\n",
       "       [ 55,  56,  57,  58,  59],\n",
       "       [ 60,  61,  62,  63,  64],\n",
       "       [ 65,  66,  67,  68,  69],\n",
       "       [ 70,  71,  72,  73,  74],\n",
       "       [ 75,  76,  77,  78,  79],\n",
       "       [ 80,  81,  82,  83,  84],\n",
       "       [ 85,  86,  87,  88,  89],\n",
       "       [ 90,  91,  92,  93,  94],\n",
       "       [ 95,  96,  97,  98,  99],\n",
       "       [100, 101, 102, 103, 104],\n",
       "       [105, 106, 107, 108, 109],\n",
       "       [110, 111, 112, 113, 114],\n",
       "       [115, 116, 117, 118, 119],\n",
       "       [120, 121, 122, 123, 124],\n",
       "       [125, 126, 127, 128, 129],\n",
       "       [130, 131, 132, 133, 134],\n",
       "       [135, 136, 137, 138, 139],\n",
       "       [140, 141, 142, 143, 144],\n",
       "       [145, 146, 147, 148, 149],\n",
       "       [150, 151, 152, 153, 154],\n",
       "       [155, 156, 157, 158, 159],\n",
       "       [160, 161, 162, 163, 164],\n",
       "       [165, 166, 167, 168, 169],\n",
       "       [170, 171, 172, 173, 174],\n",
       "       [175, 176, 177, 178, 179],\n",
       "       [180, 181, 182, 183, 184],\n",
       "       [185, 186, 187, 188, 189],\n",
       "       [190, 191, 192, 193, 194],\n",
       "       [195, 196, 197, 198, 199],\n",
       "       [200, 201, 202, 203, 204],\n",
       "       [205, 206, 207, 208, 209],\n",
       "       [210, 211, 212, 213, 214],\n",
       "       [215, 216, 217, 218, 219],\n",
       "       [220, 221, 222, 223, 224],\n",
       "       [225, 226, 227, 228, 229],\n",
       "       [230, 231, 232, 233, 234],\n",
       "       [235, 236, 237, 238, 239],\n",
       "       [240, 241, 242, 243, 244],\n",
       "       [245, 246, 247, 248, 249]])"
      ]
     },
     "execution_count": 61,
     "metadata": {},
     "output_type": "execute_result"
    }
   ],
   "source": [
    "array = np.arange(5*50).reshape(50, 5)\n",
    "array"
   ]
  },
  {
   "cell_type": "code",
   "execution_count": 62,
   "metadata": {},
   "outputs": [],
   "source": [
    "sheet.range(\"A1\").value = array"
   ]
  },
  {
   "cell_type": "code",
   "execution_count": null,
   "metadata": {},
   "outputs": [],
   "source": []
  },
  {
   "cell_type": "code",
   "execution_count": null,
   "metadata": {},
   "outputs": [],
   "source": []
  },
  {
   "cell_type": "markdown",
   "metadata": {},
   "source": [
    "## Homework"
   ]
  },
  {
   "cell_type": "code",
   "execution_count": null,
   "metadata": {},
   "outputs": [],
   "source": [
    "# run the cell!\n",
    "import xlwings as xw"
   ]
  },
  {
   "cell_type": "code",
   "execution_count": null,
   "metadata": {},
   "outputs": [],
   "source": [
    "# run the cell!\n",
    "wb = xw.Book()\n",
    "sheet = wb.sheets[0]"
   ]
  },
  {
   "cell_type": "markdown",
   "metadata": {},
   "source": [
    "Write the Values 5, 10 and 15 into cells A1:C1"
   ]
  },
  {
   "cell_type": "code",
   "execution_count": null,
   "metadata": {},
   "outputs": [],
   "source": []
  },
  {
   "cell_type": "markdown",
   "metadata": {},
   "source": [
    "Read the values back into Python (2 Alternatives)"
   ]
  },
  {
   "cell_type": "code",
   "execution_count": null,
   "metadata": {},
   "outputs": [],
   "source": [
    "# Alternative 1 (use \"A1:C1\" in your code)\n"
   ]
  },
  {
   "cell_type": "code",
   "execution_count": null,
   "metadata": {},
   "outputs": [],
   "source": [
    "# Alternative 2 (only use \"A1\" in your code)\n"
   ]
  },
  {
   "cell_type": "markdown",
   "metadata": {},
   "source": [
    "Write the values 4, 8 and 12 into cells A4:A6"
   ]
  },
  {
   "cell_type": "code",
   "execution_count": null,
   "metadata": {},
   "outputs": [],
   "source": []
  },
  {
   "cell_type": "code",
   "execution_count": null,
   "metadata": {},
   "outputs": [],
   "source": []
  },
  {
   "cell_type": "code",
   "execution_count": null,
   "metadata": {},
   "outputs": [],
   "source": [
    "# run the cell!\n",
    "sheet.range(\"A10\").value = [[4,5,6], [7,8,9], [10,11,12]]"
   ]
  },
  {
   "cell_type": "markdown",
   "metadata": {},
   "source": [
    "Read the full table (all nine values) back into Python (2 Alternatives)"
   ]
  },
  {
   "cell_type": "code",
   "execution_count": null,
   "metadata": {},
   "outputs": [],
   "source": [
    "# Alternative 1 (use \"A10:C12\" in your code)\n"
   ]
  },
  {
   "cell_type": "code",
   "execution_count": null,
   "metadata": {},
   "outputs": [],
   "source": [
    "# Alternative 2 (only use \"A10\" in your code)\n"
   ]
  },
  {
   "cell_type": "markdown",
   "metadata": {},
   "source": [
    "Read the values 7, 8 and 9 back into Python. Don´t use \"A11:C11\"! "
   ]
  },
  {
   "cell_type": "code",
   "execution_count": null,
   "metadata": {},
   "outputs": [],
   "source": []
  },
  {
   "cell_type": "markdown",
   "metadata": {},
   "source": [
    "Read the values 5, 8 and 11 back into Python (__1-dim list__). Don´t use \"B10:B12\"! "
   ]
  },
  {
   "cell_type": "code",
   "execution_count": null,
   "metadata": {},
   "outputs": [],
   "source": []
  },
  {
   "cell_type": "markdown",
   "metadata": {},
   "source": [
    "Read the values 5, 8 and 11 back into Python (__2-dim list__). Don´t use \"B10:B12\"! "
   ]
  },
  {
   "cell_type": "code",
   "execution_count": null,
   "metadata": {},
   "outputs": [],
   "source": []
  },
  {
   "cell_type": "code",
   "execution_count": null,
   "metadata": {},
   "outputs": [],
   "source": []
  },
  {
   "cell_type": "code",
   "execution_count": null,
   "metadata": {},
   "outputs": [],
   "source": []
  },
  {
   "cell_type": "code",
   "execution_count": null,
   "metadata": {},
   "outputs": [],
   "source": []
  },
  {
   "cell_type": "code",
   "execution_count": null,
   "metadata": {},
   "outputs": [],
   "source": []
  },
  {
   "cell_type": "markdown",
   "metadata": {},
   "source": [
    "# +++ Stop here, if you don´t want to see the Solution! +++"
   ]
  },
  {
   "cell_type": "code",
   "execution_count": null,
   "metadata": {},
   "outputs": [],
   "source": []
  },
  {
   "cell_type": "code",
   "execution_count": null,
   "metadata": {},
   "outputs": [],
   "source": []
  },
  {
   "cell_type": "code",
   "execution_count": null,
   "metadata": {},
   "outputs": [],
   "source": []
  },
  {
   "cell_type": "code",
   "execution_count": null,
   "metadata": {},
   "outputs": [],
   "source": []
  },
  {
   "cell_type": "markdown",
   "metadata": {},
   "source": [
    "## Homework Solution"
   ]
  },
  {
   "cell_type": "code",
   "execution_count": null,
   "metadata": {},
   "outputs": [],
   "source": [
    "# run the cell!\n",
    "import xlwings as xw"
   ]
  },
  {
   "cell_type": "code",
   "execution_count": null,
   "metadata": {},
   "outputs": [],
   "source": [
    "# run the cell!\n",
    "wb = xw.Book()\n",
    "sheet = wb.sheets[0]"
   ]
  },
  {
   "cell_type": "markdown",
   "metadata": {},
   "source": [
    "Write the Values 5, 10 and 15 into cells A1:C1"
   ]
  },
  {
   "cell_type": "code",
   "execution_count": null,
   "metadata": {},
   "outputs": [],
   "source": [
    "sheet.range(\"A1\").value = [5, 10, 15]"
   ]
  },
  {
   "cell_type": "markdown",
   "metadata": {},
   "source": [
    "Read the values back into Python (2 Alternatives)"
   ]
  },
  {
   "cell_type": "code",
   "execution_count": null,
   "metadata": {},
   "outputs": [],
   "source": [
    "# Alternative 1 (use \"A1:C1\" in your code)\n",
    "sheet.range(\"A1:C1\").value"
   ]
  },
  {
   "cell_type": "code",
   "execution_count": null,
   "metadata": {},
   "outputs": [],
   "source": [
    "# Alternative 2 (only use \"A1\" in your code)\n",
    "sheet.range(\"A1\").expand().value"
   ]
  },
  {
   "cell_type": "markdown",
   "metadata": {},
   "source": [
    "Write the values 4, 8 and 12 into cells A4:A6"
   ]
  },
  {
   "cell_type": "code",
   "execution_count": null,
   "metadata": {},
   "outputs": [],
   "source": [
    "sheet.range(\"A4\").options(transpose = True).value = [4, 8, 12]"
   ]
  },
  {
   "cell_type": "code",
   "execution_count": null,
   "metadata": {},
   "outputs": [],
   "source": []
  },
  {
   "cell_type": "code",
   "execution_count": null,
   "metadata": {},
   "outputs": [],
   "source": [
    "# run the cell!\n",
    "sheet.range(\"A10\").value = [[4,5,6], [7,8,9], [10,11,12]]"
   ]
  },
  {
   "cell_type": "markdown",
   "metadata": {},
   "source": [
    "Read the full table (all nine values) back into Python (2 Alternatives)"
   ]
  },
  {
   "cell_type": "code",
   "execution_count": null,
   "metadata": {},
   "outputs": [],
   "source": [
    "# Alternative 1 (use \"A10:C12\" in your code)\n",
    "sheet.range(\"A10:C12\").value"
   ]
  },
  {
   "cell_type": "code",
   "execution_count": null,
   "metadata": {},
   "outputs": [],
   "source": [
    "# Alternative 2 (only use \"A10\" in your code)\n",
    "sheet.range(\"A10\").expand(\"table\").value"
   ]
  },
  {
   "cell_type": "markdown",
   "metadata": {},
   "source": [
    "Read the values 7, 8 and 9 back into Python. Don´t use \"A11:C11\"! "
   ]
  },
  {
   "cell_type": "code",
   "execution_count": null,
   "metadata": {},
   "outputs": [],
   "source": [
    "sheet.range(\"A11\").expand(\"right\").value"
   ]
  },
  {
   "cell_type": "markdown",
   "metadata": {},
   "source": [
    "Read the values 5, 8 and 11 back into Python (__1-dim list__). Don´t use \"B10:B12\"! "
   ]
  },
  {
   "cell_type": "code",
   "execution_count": null,
   "metadata": {},
   "outputs": [],
   "source": [
    "sheet.range(\"B10\").expand(\"down\").value"
   ]
  },
  {
   "cell_type": "markdown",
   "metadata": {},
   "source": [
    "Read the values 5, 8 and 11 back into Python (__2-dim list__). Don´t use \"B10:B12\"! "
   ]
  },
  {
   "cell_type": "code",
   "execution_count": null,
   "metadata": {},
   "outputs": [],
   "source": [
    "sheet.range(\"B10\").options(expand = \"down\", ndim = 2).value"
   ]
  },
  {
   "cell_type": "code",
   "execution_count": null,
   "metadata": {},
   "outputs": [],
   "source": []
  }
 ],
 "metadata": {
  "kernelspec": {
   "display_name": "Python 3",
   "language": "python",
   "name": "python3"
  },
  "language_info": {
   "codemirror_mode": {
    "name": "ipython",
    "version": 3
   },
   "file_extension": ".py",
   "mimetype": "text/x-python",
   "name": "python",
   "nbconvert_exporter": "python",
   "pygments_lexer": "ipython3",
   "version": "3.9.4"
  }
 },
 "nbformat": 4,
 "nbformat_minor": 4
}
