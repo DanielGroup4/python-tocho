{
 "cells": [
  {
   "cell_type": "markdown",
   "metadata": {},
   "source": [
    "## Working with Attributes, Class Constructors and the __init__() Function"
   ]
  },
  {
   "cell_type": "code",
   "execution_count": 1,
   "metadata": {},
   "outputs": [],
   "source": [
    "class User:\n",
    "\n",
    "        # definicion del constructor (inicializar la clase)\n",
    "        def __init__(self, user_id, username):\n",
    "            self.id = user_id         # atribute\n",
    "            self.username = username  # atribute\n",
    "            self.followers = 0        # atribute"
   ]
  },
  {
   "cell_type": "markdown",
   "metadata": {},
   "source": [
    "**los atributos son como variables, sol que estan dentro de una funcion**\n",
    "\n",
    "**los atributos son las cosas que tiene el obtejo**"
   ]
  },
  {
   "cell_type": "markdown",
   "metadata": {},
   "source": [
    "**estos atributos no son necesarios si ya se encuentran desde el constructor**"
   ]
  },
  {
   "cell_type": "code",
   "execution_count": null,
   "metadata": {},
   "outputs": [],
   "source": [
    "\n",
    "# user_1 = User()             # creacion del objeto de la clase User\n",
    "# user_1.id = \"001\"           # 1er atributo\n",
    "# user_1.username = \"daniel\"  # 2do atributo"
   ]
  },
  {
   "cell_type": "markdown",
   "metadata": {},
   "source": [
    "**inicializamos la clase con estos valores inicionales y creamos el objeto \"user_1\"**"
   ]
  },
  {
   "cell_type": "code",
   "execution_count": 2,
   "metadata": {},
   "outputs": [],
   "source": [
    "user_1 = User(\"001\", \"daniel\")"
   ]
  },
  {
   "cell_type": "markdown",
   "metadata": {},
   "source": [
    "**imprimimos por pantalla los valores asociados al objeto creado \"user_1\"**"
   ]
  },
  {
   "cell_type": "code",
   "execution_count": 3,
   "metadata": {},
   "outputs": [
    {
     "name": "stdout",
     "output_type": "stream",
     "text": [
      "daniel\n",
      "001\n",
      "0\n"
     ]
    }
   ],
   "source": [
    "print(user_1.username)\n",
    "print(user_1.id)\n",
    "print(user_1.followers)"
   ]
  },
  {
   "cell_type": "markdown",
   "metadata": {},
   "source": [
    "## Adding methods to a Class"
   ]
  },
  {
   "cell_type": "markdown",
   "metadata": {},
   "source": [
    "**los metodos son las cosas que hace el objeto**"
   ]
  },
  {
   "cell_type": "code",
   "execution_count": 4,
   "metadata": {},
   "outputs": [
    {
     "name": "stdout",
     "output_type": "stream",
     "text": [
      "0\n",
      "1\n",
      "1\n",
      "0\n"
     ]
    }
   ],
   "source": [
    "class User:\n",
    "\n",
    "        # definicion del constructor (inicializar la clase)\n",
    "        def __init__(self, user_id, username):\n",
    "            self.id = user_id         # atribute\n",
    "            self.username = username  # atribute\n",
    "            self.followers = 0        # atribute\n",
    "            self.following = 0        # attrubute\n",
    "\n",
    "        def follow(self, user):\n",
    "            user.followers += 1\n",
    "            self.following += 1\n",
    "\n",
    "user_1 = User(\"001\", \"angela\")\n",
    "user_2 = User(\"002\", \"jack\")\n",
    "\n",
    "user_1.follow(user_2)\n",
    "print(user_1.followers)\n",
    "print(user_1.following)\n",
    "print(user_2.followers)\n",
    "print(user_2.following)"
   ]
  },
  {
   "cell_type": "code",
   "execution_count": null,
   "metadata": {},
   "outputs": [],
   "source": []
  }
 ],
 "metadata": {
  "interpreter": {
   "hash": "83f7819564424dbb20579ef60fd12f583249066695f314690fe13c3f66b3513f"
  },
  "kernelspec": {
   "display_name": "Python 3.9.12 64-bit",
   "language": "python",
   "name": "python3"
  },
  "language_info": {
   "codemirror_mode": {
    "name": "ipython",
    "version": 3
   },
   "file_extension": ".py",
   "mimetype": "text/x-python",
   "name": "python",
   "nbconvert_exporter": "python",
   "pygments_lexer": "ipython3",
   "version": "3.9.12"
  },
  "orig_nbformat": 4
 },
 "nbformat": 4,
 "nbformat_minor": 2
}
